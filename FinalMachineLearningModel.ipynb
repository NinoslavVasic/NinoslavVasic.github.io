{
 "cells": [
  {
   "cell_type": "code",
   "execution_count": 1,
   "metadata": {},
   "outputs": [],
   "source": [
    "import pandas as pd\n",
    "import numpy as np\n",
    "import matplotlib.pyplot as plt\n",
    "import tensorflow as tf \n",
    "from pathlib import Path\n",
    "from sklearn import linear_model\n",
    "from nltk import ngrams\n",
    "from sklearn.model_selection import train_test_split\n",
    "from sklearn.feature_extraction.text import TfidfVectorizer\n",
    "from sklearn.feature_selection import chi2\n",
    "from xgboost import XGBClassifier\n",
    "from sklearn.metrics import accuracy_score, classification_report\n",
    "from bs4 import BeautifulSoup\n",
    "import requests\n",
    "from nltk.corpus import stopwords\n",
    "from nltk.tokenize import word_tokenize\n",
    "from nltk.stem import WordNetLemmatizer\n",
    "import re \n",
    "\n",
    "%matplotlib inline"
   ]
  },
  {
   "cell_type": "code",
   "execution_count": 2,
   "metadata": {},
   "outputs": [],
   "source": [
    "file_path = Path(\"G06_full_cleaned_more_stopwords_removed2.csv\")\n",
    "patents_df = pd.read_csv(file_path)"
   ]
  },
  {
   "cell_type": "code",
   "execution_count": 3,
   "metadata": {},
   "outputs": [],
   "source": [
    "# Create CPC Codes and replace them in the dataframe\n",
    "class_codes = {\n",
    "    'G06C': 0,\n",
    "    'G06E': 1,\n",
    "    'G06F': 2,\n",
    "    'G06G': 3,\n",
    "    'G06J': 4,\n",
    "    'G06K': 5,\n",
    "    'G06M': 6,\n",
    "    'G06N': 7,\n",
    "    'G06Q': 8,\n",
    "    'G06T': 9    \n",
    "}\n",
    "\n",
    "patents_df = patents_df.replace({'Class':class_codes})"
   ]
  },
  {
   "cell_type": "code",
   "execution_count": 4,
   "metadata": {},
   "outputs": [
    {
     "data": {
      "text/html": [
       "<div>\n",
       "<style scoped>\n",
       "    .dataframe tbody tr th:only-of-type {\n",
       "        vertical-align: middle;\n",
       "    }\n",
       "\n",
       "    .dataframe tbody tr th {\n",
       "        vertical-align: top;\n",
       "    }\n",
       "\n",
       "    .dataframe thead th {\n",
       "        text-align: right;\n",
       "    }\n",
       "</style>\n",
       "<table border=\"1\" class=\"dataframe\">\n",
       "  <thead>\n",
       "    <tr style=\"text-align: right;\">\n",
       "      <th></th>\n",
       "      <th>Class</th>\n",
       "      <th>Claims</th>\n",
       "    </tr>\n",
       "  </thead>\n",
       "  <tbody>\n",
       "    <tr>\n",
       "      <th>0</th>\n",
       "      <td>0.0</td>\n",
       "      <td>business machine apparatus constructed arrange...</td>\n",
       "    </tr>\n",
       "    <tr>\n",
       "      <th>1</th>\n",
       "      <td>0.0</td>\n",
       "      <td>tenkey calculating maching value  mechanism re...</td>\n",
       "    </tr>\n",
       "    <tr>\n",
       "      <th>2</th>\n",
       "      <td>0.0</td>\n",
       "      <td>printing calculator ten digit key fourfunction...</td>\n",
       "    </tr>\n",
       "    <tr>\n",
       "      <th>3</th>\n",
       "      <td>0.0</td>\n",
       "      <td>cash register amount bank key includes differe...</td>\n",
       "    </tr>\n",
       "    <tr>\n",
       "      <th>4</th>\n",
       "      <td>0.0</td>\n",
       "      <td>machine calculating decimal number coded accor...</td>\n",
       "    </tr>\n",
       "    <tr>\n",
       "      <th>...</th>\n",
       "      <td>...</td>\n",
       "      <td>...</td>\n",
       "    </tr>\n",
       "    <tr>\n",
       "      <th>7536</th>\n",
       "      <td>9.0</td>\n",
       "      <td>information process apparatus comprisingan ext...</td>\n",
       "    </tr>\n",
       "    <tr>\n",
       "      <th>7537</th>\n",
       "      <td>9.0</td>\n",
       "      <td>comprisingreceiving server computer user cust...</td>\n",
       "    </tr>\n",
       "    <tr>\n",
       "      <th>7538</th>\n",
       "      <td>9.0</td>\n",
       "      <td>comprisingcreating bundle work unitsselecting...</td>\n",
       "    </tr>\n",
       "    <tr>\n",
       "      <th>7539</th>\n",
       "      <td>9.0</td>\n",
       "      <td>providing internet mobile end user customized...</td>\n",
       "    </tr>\n",
       "    <tr>\n",
       "      <th>7540</th>\n",
       "      <td>9.0</td>\n",
       "      <td>computerimplemented  accessing transaction doc...</td>\n",
       "    </tr>\n",
       "  </tbody>\n",
       "</table>\n",
       "<p>7541 rows × 2 columns</p>\n",
       "</div>"
      ],
      "text/plain": [
       "      Class                                             Claims\n",
       "0       0.0  business machine apparatus constructed arrange...\n",
       "1       0.0  tenkey calculating maching value  mechanism re...\n",
       "2       0.0  printing calculator ten digit key fourfunction...\n",
       "3       0.0  cash register amount bank key includes differe...\n",
       "4       0.0  machine calculating decimal number coded accor...\n",
       "...     ...                                                ...\n",
       "7536    9.0  information process apparatus comprisingan ext...\n",
       "7537    9.0   comprisingreceiving server computer user cust...\n",
       "7538    9.0   comprisingcreating bundle work unitsselecting...\n",
       "7539    9.0   providing internet mobile end user customized...\n",
       "7540    9.0  computerimplemented  accessing transaction doc...\n",
       "\n",
       "[7541 rows x 2 columns]"
      ]
     },
     "execution_count": 4,
     "metadata": {},
     "output_type": "execute_result"
    }
   ],
   "source": [
    "patents_df.drop(columns=['Unnamed: 0'], inplace=True)\n",
    "patents_df.dropna(inplace=True)\n",
    "patents_df.reset_index(drop=True)"
   ]
  },
  {
   "cell_type": "code",
   "execution_count": 5,
   "metadata": {},
   "outputs": [],
   "source": [
    "# Label X and y data \n",
    "X = patents_df.Claims\n",
    "y = patents_df.Class"
   ]
  },
  {
   "cell_type": "code",
   "execution_count": 6,
   "metadata": {},
   "outputs": [],
   "source": [
    "#Train Test Split the data\n",
    "X_train, X_test, y_train, y_test = train_test_split(X, y, test_size = 0.25 ,random_state=78)"
   ]
  },
  {
   "cell_type": "code",
   "execution_count": 7,
   "metadata": {},
   "outputs": [],
   "source": [
    "ngram_range = (1,2)\n",
    "min_df = 10\n",
    "max_df = 1.\n",
    "max_features = 2000"
   ]
  },
  {
   "cell_type": "code",
   "execution_count": 8,
   "metadata": {},
   "outputs": [
    {
     "name": "stdout",
     "output_type": "stream",
     "text": [
      "(5655, 2000)\n",
      "(1886, 2000)\n"
     ]
    }
   ],
   "source": [
    "tfidf = TfidfVectorizer(encoding='utf-8',\n",
    "                        ngram_range=ngram_range,\n",
    "                        stop_words=None,\n",
    "                        lowercase=False,\n",
    "                        max_df=max_df,\n",
    "                        min_df=min_df,\n",
    "                        max_features=max_features,\n",
    "                        norm='l2',\n",
    "                        sublinear_tf=True)\n",
    "                        \n",
    "features_train = tfidf.fit_transform(X_train).toarray()\n",
    "labels_train = y_train\n",
    "print(features_train.shape)\n",
    "\n",
    "features_test = tfidf.transform(X_test).toarray()\n",
    "labels_test = y_test\n",
    "print(features_test.shape)"
   ]
  },
  {
   "cell_type": "code",
   "execution_count": 9,
   "metadata": {},
   "outputs": [
    {
     "name": "stdout",
     "output_type": "stream",
     "text": [
      "# 'G06C' category:\n",
      "  . Most correlated unigrams:\n",
      ". disc\n",
      ". gear\n",
      ". slide\n",
      ". shaft\n",
      ". lever\n",
      "  . Most correlated bigrams:\n",
      ". mean includes\n",
      ". mean comprises\n",
      "\n",
      "# 'G06E' category:\n",
      "  . Most correlated unigrams:\n",
      ". lens\n",
      ". fourier\n",
      ". light\n",
      ". beam\n",
      ". optical\n",
      "  . Most correlated bigrams:\n",
      ". spatial light\n",
      ". fourier transform\n",
      "\n",
      "# 'G06F' category:\n",
      "  . Most correlated unigrams:\n",
      ". wearable\n",
      ". protocol\n",
      ". playback\n",
      ". wireless\n",
      ". audio\n",
      "  . Most correlated bigrams:\n",
      ". electronic device\n",
      ". medium content\n",
      "\n",
      "# 'G06G' category:\n",
      "  . Most correlated unigrams:\n",
      ". resistance\n",
      ". resistor\n",
      ". transistor\n",
      ". voltage\n",
      ". amplifier\n",
      "  . Most correlated bigrams:\n",
      ". mean connected\n",
      ". current source\n",
      "\n",
      "# 'G06J' category:\n",
      "  . Most correlated unigrams:\n",
      ". circuit\n",
      ". digitaltoanalog\n",
      ". digital\n",
      ". converter\n",
      ". analog\n",
      "  . Most correlated bigrams:\n",
      ". digital signal\n",
      ". analog signal\n",
      "\n",
      "# 'G06K' category:\n",
      "  . Most correlated unigrams:\n",
      ". character\n",
      ". region\n",
      ". feature\n",
      ". pixel\n",
      ". image\n",
      "  . Most correlated bigrams:\n",
      ". feature vector\n",
      ". image based\n",
      "\n",
      "# 'G06M' category:\n",
      "  . Most correlated unigrams:\n",
      ". dispenser\n",
      ". dose\n",
      ". wheel\n",
      ". counter\n",
      ". counting\n",
      "  . Most correlated bigrams:\n",
      ". predetermined number\n",
      ". counting mean\n",
      "\n",
      "# 'G06N' category:\n",
      "  . Most correlated unigrams:\n",
      ". weight\n",
      ". artificial\n",
      ". learning\n",
      ". neuron\n",
      ". neural\n",
      "  . Most correlated bigrams:\n",
      ". training data\n",
      ". neural network\n",
      "\n",
      "# 'G06Q' category:\n",
      "  . Most correlated unigrams:\n",
      ". customer\n",
      ". purchase\n",
      ". merchant\n",
      ". payment\n",
      ". transaction\n",
      "  . Most correlated bigrams:\n",
      ". product service\n",
      ". transaction data\n",
      "\n",
      "# 'G06T' category:\n",
      "  . Most correlated unigrams:\n",
      ". gesture\n",
      ". metadata\n",
      ". application\n",
      ". page\n",
      ". document\n",
      "  . Most correlated bigrams:\n",
      ". mixed medium\n",
      ". user interface\n",
      "\n"
     ]
    }
   ],
   "source": [
    "for Product, category_id in sorted(class_codes.items()):\n",
    "    features_chi2 = chi2(features_train, labels_train == category_id)\n",
    "    indices = np.argsort(features_chi2[0])\n",
    "    feature_names = np.array(tfidf.get_feature_names())[indices]\n",
    "    unigrams = [v for v in feature_names if len(v.split(' ')) == 1]\n",
    "    bigrams = [v for v in feature_names if len(v.split(' ')) == 2]\n",
    "    print(\"# '{}' category:\".format(Product))\n",
    "    print(\"  . Most correlated unigrams:\\n. {}\".format('\\n. '.join(unigrams[-5:])))\n",
    "    print(\"  . Most correlated bigrams:\\n. {}\".format('\\n. '.join(bigrams[-2:])))\n",
    "    print(\"\")"
   ]
  },
  {
   "cell_type": "code",
   "execution_count": 10,
   "metadata": {},
   "outputs": [],
   "source": [
    "labels_train = labels_train.astype('int')\n",
    "labels_test = labels_test.astype('int')"
   ]
  },
  {
   "cell_type": "code",
   "execution_count": 33,
   "metadata": {},
   "outputs": [
    {
     "data": {
      "text/plain": [
       "XGBClassifier(base_score=0.5, booster='gbtree', colsample_bylevel=1,\n",
       "              colsample_bynode=1, colsample_bytree=1, gamma=0, gpu_id=-1,\n",
       "              importance_type='gain', interaction_constraints='',\n",
       "              learning_rate=0.2, max_delta_step=0, max_depth=6,\n",
       "              min_child_weight=1, missing=nan, monotone_constraints='()',\n",
       "              n_estimators=100, n_jobs=0, num_parallel_tree=1,\n",
       "              objective='multi:softprob', random_state=0, reg_alpha=0,\n",
       "              reg_lambda=1, scale_pos_weight=None, subsample=1,\n",
       "              tree_method='exact', validate_parameters=1, verbosity=None)"
      ]
     },
     "execution_count": 33,
     "metadata": {},
     "output_type": "execute_result"
    }
   ],
   "source": [
    "model = XGBClassifier(learning_rate = 0.2)\n",
    "model.fit(features_train, labels_train)"
   ]
  },
  {
   "cell_type": "code",
   "execution_count": 34,
   "metadata": {},
   "outputs": [],
   "source": [
    "predictions = model.predict(features_test)"
   ]
  },
  {
   "cell_type": "code",
   "execution_count": 35,
   "metadata": {},
   "outputs": [
    {
     "name": "stdout",
     "output_type": "stream",
     "text": [
      "Accuracy: 79.90%\n"
     ]
    }
   ],
   "source": [
    "# evaluate predictions\n",
    "accuracy = accuracy_score(labels_test, predictions)\n",
    "print(\"Accuracy: %.2f%%\" % (accuracy * 100.0))"
   ]
  },
  {
   "cell_type": "code",
   "execution_count": 36,
   "metadata": {},
   "outputs": [
    {
     "name": "stdout",
     "output_type": "stream",
     "text": [
      "              precision    recall  f1-score   support\n",
      "\n",
      "           0       0.69      0.63      0.66        38\n",
      "           1       0.88      0.92      0.90       189\n",
      "           2       0.70      0.73      0.72       263\n",
      "           3       0.71      0.66      0.69        83\n",
      "           4       0.88      0.86      0.87       170\n",
      "           5       0.84      0.85      0.85       245\n",
      "           6       0.87      0.76      0.81       155\n",
      "           7       0.83      0.86      0.84       254\n",
      "           8       0.85      0.86      0.86       237\n",
      "           9       0.66      0.65      0.66       252\n",
      "\n",
      "    accuracy                           0.80      1886\n",
      "   macro avg       0.79      0.78      0.79      1886\n",
      "weighted avg       0.80      0.80      0.80      1886\n",
      "\n"
     ]
    }
   ],
   "source": [
    "print(classification_report(labels_test, predictions))"
   ]
  },
  {
   "cell_type": "code",
   "execution_count": null,
   "metadata": {},
   "outputs": [],
   "source": []
  }
 ],
 "metadata": {
  "kernelspec": {
   "display_name": "Python 3",
   "language": "python",
   "name": "python3"
  },
  "language_info": {
   "codemirror_mode": {
    "name": "ipython",
    "version": 3
   },
   "file_extension": ".py",
   "mimetype": "text/x-python",
   "name": "python",
   "nbconvert_exporter": "python",
   "pygments_lexer": "ipython3",
   "version": "3.7.4"
  }
 },
 "nbformat": 4,
 "nbformat_minor": 4
}
