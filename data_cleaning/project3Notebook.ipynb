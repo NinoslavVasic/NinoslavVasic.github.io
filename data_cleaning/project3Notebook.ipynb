{
 "cells": [
  {
   "cell_type": "markdown",
   "metadata": {},
   "source": [
    "# Data Download and pre-processing \n",
    "In this notebook we will do web scrapping to collect patents data from Google's patent database. "
   ]
  },
  {
   "cell_type": "code",
   "execution_count": 1,
   "metadata": {},
   "outputs": [],
   "source": [
    "# Import initial libraries\n",
    "import pandas as pd \n",
    "from bs4 import BeautifulSoup\n",
    "import requests\n",
    "from nltk.corpus import stopwords\n",
    "from nltk.tokenize import word_tokenize\n",
    "from nltk.stem import WordNetLemmatizer\n",
    "import re \n",
    "\n",
    "# instantiate WordNetLemmatizer\n",
    "lemmatizer=WordNetLemmatizer()"
   ]
  },
  {
   "cell_type": "code",
   "execution_count": 2,
   "metadata": {},
   "outputs": [],
   "source": [
    "def cleanhtml(raw_html):\n",
    "    # clean html tags\n",
    "    cleanr = re.compile('<.*?>')\n",
    "    cleantext = re.sub(cleanr, '', raw_html)\n",
    "    \n",
    "    # remove newlines, \\n, and turn text into long string\n",
    "    output = \" \".join(cleantext.splitlines()) \n",
    "    return output"
   ]
  },
  {
   "cell_type": "code",
   "execution_count": 3,
   "metadata": {},
   "outputs": [],
   "source": [
    "def removeSpecialCharacter(string):\n",
    "    # Removes '-:;' from combined words \n",
    "    regex = re.compile('[-:;,]')\n",
    "    clean_text = regex.sub(' ', string)\n",
    "    return clean_text"
   ]
  },
  {
   "cell_type": "code",
   "execution_count": 4,
   "metadata": {},
   "outputs": [],
   "source": [
    "def process_text(doc):\n",
    "    doc = cleanhtml(str(doc)) # remove html characters\n",
    "    sw = set(stopwords.words('english')) # set of default stopwords\n",
    "    sw_addon = {'according', 'system', 'comprising', 'comprise','means', 'method', 'claim', 'input', 'output', 'wherein', 'one','said',\n",
    "                'a', 'though', 'least', 'plurality', 'first', 'second', 'member', 'aparatus', 'part'}\n",
    "    regex = re.compile('[^a-zA-Z\\-\\:\\;\\, ]') # compile all non-letter character. Ignore '-' and '\\n'\n",
    "    re_clean = regex.sub('', doc) #substitute all non-letter characters\n",
    "    final_clean = removeSpecialCharacter(re_clean) #remove '-' from combined words\n",
    "    words = word_tokenize(final_clean) # break down articles into words\n",
    "    words = [lemmatizer.lemmatize(word) for word in words] #lemmatize each word\n",
    "    output = [word.lower() for word in words if word.lower() not in sw.union(sw_addon)]# list of words not part of sw\n",
    "    output = ' '.join(output)\n",
    "    return output"
   ]
  },
  {
   "cell_type": "code",
   "execution_count": 5,
   "metadata": {},
   "outputs": [],
   "source": [
    "def getClaims(url): \n",
    "    # Retrieve text-based html content\n",
    "    # create Beatiful Soup object \n",
    "    result = requests.get(url)\n",
    "    text = result.text\n",
    "    soup = BeautifulSoup(text, 'lxml')\n",
    "    \n",
    "    # Find all instances of Claims\n",
    "    claims = soup.findAll('div', {'class':\"claim-text\"})\n",
    "    \n",
    "    # Clean and return claim data\n",
    "    return process_text(claims)    "
   ]
  },
  {
   "cell_type": "code",
   "execution_count": 6,
   "metadata": {},
   "outputs": [
    {
     "data": {
      "text/html": [
       "<div>\n",
       "<style scoped>\n",
       "    .dataframe tbody tr th:only-of-type {\n",
       "        vertical-align: middle;\n",
       "    }\n",
       "\n",
       "    .dataframe tbody tr th {\n",
       "        vertical-align: top;\n",
       "    }\n",
       "\n",
       "    .dataframe thead th {\n",
       "        text-align: right;\n",
       "    }\n",
       "</style>\n",
       "<table border=\"1\" class=\"dataframe\">\n",
       "  <thead>\n",
       "    <tr style=\"text-align: right;\">\n",
       "      <th></th>\n",
       "      <th>Patent No. Hyperlink</th>\n",
       "      <th>Class</th>\n",
       "    </tr>\n",
       "  </thead>\n",
       "  <tbody>\n",
       "    <tr>\n",
       "      <th>0</th>\n",
       "      <td>https://patents.google.com/patent/US3476313A/en</td>\n",
       "      <td>G06C</td>\n",
       "    </tr>\n",
       "    <tr>\n",
       "      <th>1</th>\n",
       "      <td>https://patents.google.com/patent/US3451618A/en</td>\n",
       "      <td>G06C</td>\n",
       "    </tr>\n",
       "    <tr>\n",
       "      <th>2</th>\n",
       "      <td>https://patents.google.com/patent/US3441211A/en</td>\n",
       "      <td>G06C</td>\n",
       "    </tr>\n",
       "    <tr>\n",
       "      <th>3</th>\n",
       "      <td>https://patents.google.com/patent/US3472450A/en</td>\n",
       "      <td>G06C</td>\n",
       "    </tr>\n",
       "    <tr>\n",
       "      <th>4</th>\n",
       "      <td>https://patents.google.com/patent/US3476312A/en</td>\n",
       "      <td>G06C</td>\n",
       "    </tr>\n",
       "  </tbody>\n",
       "</table>\n",
       "</div>"
      ],
      "text/plain": [
       "                              Patent No. Hyperlink Class\n",
       "0  https://patents.google.com/patent/US3476313A/en  G06C\n",
       "1  https://patents.google.com/patent/US3451618A/en  G06C\n",
       "2  https://patents.google.com/patent/US3441211A/en  G06C\n",
       "3  https://patents.google.com/patent/US3472450A/en  G06C\n",
       "4  https://patents.google.com/patent/US3476312A/en  G06C"
      ]
     },
     "execution_count": 6,
     "metadata": {},
     "output_type": "execute_result"
    }
   ],
   "source": [
    "# import df with patents' links\n",
    "links_df = pd.read_csv('G06_FINAL.csv', header=None).rename(columns={0:'Patent No. Hyperlink', 1:'Class'})\n",
    "links_df.head()"
   ]
  },
  {
   "cell_type": "code",
   "execution_count": 7,
   "metadata": {},
   "outputs": [],
   "source": [
    "claims_df = pd.DataFrame(columns = ['URL','Class', 'Claims'])\n",
    "for url, class_ in zip(links_df['Patent No. Hyperlink'], links_df['Class']):\n",
    "    # Run the following.\n",
    "    try:       \n",
    "        df = pd.DataFrame({\n",
    "            'URL': url,\n",
    "            'Class': class_,\n",
    "            'Claims': getClaims(url)\n",
    "        }, index = [0])\n",
    "        \n",
    "        # Check for patents with blank claims.\n",
    "        # Skip patent if true\n",
    "        if df['Claims'][0] == '':\n",
    "            continue\n",
    "        else: \n",
    "            claims_df = pd.concat([claims_df,df])\n",
    "         \n",
    "    # If an error/exception occurs, pass and go to the next iteration of the loop.   \n",
    "    except: \n",
    "        pass"
   ]
  },
  {
   "cell_type": "code",
   "execution_count": 8,
   "metadata": {},
   "outputs": [],
   "source": [
    "claims_df.reset_index(drop=True, inplace = True)"
   ]
  },
  {
   "cell_type": "code",
   "execution_count": 9,
   "metadata": {},
   "outputs": [],
   "source": [
    "claims_df.to_csv('G06_final_1.csv')"
   ]
  },
  {
   "cell_type": "code",
   "execution_count": 10,
   "metadata": {},
   "outputs": [
    {
     "data": {
      "text/html": [
       "<div>\n",
       "<style scoped>\n",
       "    .dataframe tbody tr th:only-of-type {\n",
       "        vertical-align: middle;\n",
       "    }\n",
       "\n",
       "    .dataframe tbody tr th {\n",
       "        vertical-align: top;\n",
       "    }\n",
       "\n",
       "    .dataframe thead th {\n",
       "        text-align: right;\n",
       "    }\n",
       "</style>\n",
       "<table border=\"1\" class=\"dataframe\">\n",
       "  <thead>\n",
       "    <tr style=\"text-align: right;\">\n",
       "      <th></th>\n",
       "      <th>URL</th>\n",
       "      <th>Class</th>\n",
       "      <th>Claims</th>\n",
       "    </tr>\n",
       "  </thead>\n",
       "  <tbody>\n",
       "    <tr>\n",
       "      <th>0</th>\n",
       "      <td>https://patents.google.com/patent/US3561674A/en</td>\n",
       "      <td>G06C</td>\n",
       "      <td>business machine apparatus constructed arrange...</td>\n",
       "    </tr>\n",
       "    <tr>\n",
       "      <th>1</th>\n",
       "      <td>https://patents.google.com/patent/US3869081A/en</td>\n",
       "      <td>G06C</td>\n",
       "      <td>ten key calculating maching value mechanism re...</td>\n",
       "    </tr>\n",
       "    <tr>\n",
       "      <th>2</th>\n",
       "      <td>https://patents.google.com/patent/US3432094A/en</td>\n",
       "      <td>G06C</td>\n",
       "      <td>printing calculator ten digit key four functio...</td>\n",
       "    </tr>\n",
       "    <tr>\n",
       "      <th>3</th>\n",
       "      <td>https://patents.google.com/patent/US3682379A/en</td>\n",
       "      <td>G06C</td>\n",
       "      <td>cash register amount bank key includes differe...</td>\n",
       "    </tr>\n",
       "    <tr>\n",
       "      <th>4</th>\n",
       "      <td>https://patents.google.com/patent/US3604619A/en</td>\n",
       "      <td>G06C</td>\n",
       "      <td>machine calculating decimal number coded accor...</td>\n",
       "    </tr>\n",
       "  </tbody>\n",
       "</table>\n",
       "</div>"
      ],
      "text/plain": [
       "                                               URL Class  \\\n",
       "0  https://patents.google.com/patent/US3561674A/en  G06C   \n",
       "1  https://patents.google.com/patent/US3869081A/en  G06C   \n",
       "2  https://patents.google.com/patent/US3432094A/en  G06C   \n",
       "3  https://patents.google.com/patent/US3682379A/en  G06C   \n",
       "4  https://patents.google.com/patent/US3604619A/en  G06C   \n",
       "\n",
       "                                              Claims  \n",
       "0  business machine apparatus constructed arrange...  \n",
       "1  ten key calculating maching value mechanism re...  \n",
       "2  printing calculator ten digit key four functio...  \n",
       "3  cash register amount bank key includes differe...  \n",
       "4  machine calculating decimal number coded accor...  "
      ]
     },
     "execution_count": 10,
     "metadata": {},
     "output_type": "execute_result"
    }
   ],
   "source": [
    "claims_df.head()"
   ]
  },
  {
   "cell_type": "code",
   "execution_count": 11,
   "metadata": {},
   "outputs": [
    {
     "data": {
      "text/html": [
       "<div>\n",
       "<style scoped>\n",
       "    .dataframe tbody tr th:only-of-type {\n",
       "        vertical-align: middle;\n",
       "    }\n",
       "\n",
       "    .dataframe tbody tr th {\n",
       "        vertical-align: top;\n",
       "    }\n",
       "\n",
       "    .dataframe thead th {\n",
       "        text-align: right;\n",
       "    }\n",
       "</style>\n",
       "<table border=\"1\" class=\"dataframe\">\n",
       "  <thead>\n",
       "    <tr style=\"text-align: right;\">\n",
       "      <th></th>\n",
       "      <th>URL</th>\n",
       "      <th>Class</th>\n",
       "      <th>Claims</th>\n",
       "    </tr>\n",
       "  </thead>\n",
       "  <tbody>\n",
       "    <tr>\n",
       "      <th>0</th>\n",
       "      <td>https://patents.google.com/patent/US3561674A/en</td>\n",
       "      <td>G06C</td>\n",
       "      <td>business machine apparatus constructed arrange...</td>\n",
       "    </tr>\n",
       "    <tr>\n",
       "      <th>1</th>\n",
       "      <td>https://patents.google.com/patent/US3869081A/en</td>\n",
       "      <td>G06C</td>\n",
       "      <td>ten key calculating maching value mechanism re...</td>\n",
       "    </tr>\n",
       "    <tr>\n",
       "      <th>2</th>\n",
       "      <td>https://patents.google.com/patent/US3432094A/en</td>\n",
       "      <td>G06C</td>\n",
       "      <td>printing calculator ten digit key four functio...</td>\n",
       "    </tr>\n",
       "    <tr>\n",
       "      <th>3</th>\n",
       "      <td>https://patents.google.com/patent/US3682379A/en</td>\n",
       "      <td>G06C</td>\n",
       "      <td>cash register amount bank key includes differe...</td>\n",
       "    </tr>\n",
       "    <tr>\n",
       "      <th>4</th>\n",
       "      <td>https://patents.google.com/patent/US3604619A/en</td>\n",
       "      <td>G06C</td>\n",
       "      <td>machine calculating decimal number coded accor...</td>\n",
       "    </tr>\n",
       "  </tbody>\n",
       "</table>\n",
       "</div>"
      ],
      "text/plain": [
       "                                               URL Class  \\\n",
       "0  https://patents.google.com/patent/US3561674A/en  G06C   \n",
       "1  https://patents.google.com/patent/US3869081A/en  G06C   \n",
       "2  https://patents.google.com/patent/US3432094A/en  G06C   \n",
       "3  https://patents.google.com/patent/US3682379A/en  G06C   \n",
       "4  https://patents.google.com/patent/US3604619A/en  G06C   \n",
       "\n",
       "                                              Claims  \n",
       "0  business machine apparatus constructed arrange...  \n",
       "1  ten key calculating maching value mechanism re...  \n",
       "2  printing calculator ten digit key four functio...  \n",
       "3  cash register amount bank key includes differe...  \n",
       "4  machine calculating decimal number coded accor...  "
      ]
     },
     "execution_count": 11,
     "metadata": {},
     "output_type": "execute_result"
    }
   ],
   "source": [
    "df = claims_df\n",
    "df.head()"
   ]
  },
  {
   "cell_type": "code",
   "execution_count": 12,
   "metadata": {},
   "outputs": [
    {
     "data": {
      "text/html": [
       "<div>\n",
       "<style scoped>\n",
       "    .dataframe tbody tr th:only-of-type {\n",
       "        vertical-align: middle;\n",
       "    }\n",
       "\n",
       "    .dataframe tbody tr th {\n",
       "        vertical-align: top;\n",
       "    }\n",
       "\n",
       "    .dataframe thead th {\n",
       "        text-align: right;\n",
       "    }\n",
       "</style>\n",
       "<table border=\"1\" class=\"dataframe\">\n",
       "  <thead>\n",
       "    <tr style=\"text-align: right;\">\n",
       "      <th></th>\n",
       "      <th>Class</th>\n",
       "      <th>Claims</th>\n",
       "    </tr>\n",
       "  </thead>\n",
       "  <tbody>\n",
       "    <tr>\n",
       "      <th>0</th>\n",
       "      <td>G06C</td>\n",
       "      <td>business machine apparatus constructed arrange...</td>\n",
       "    </tr>\n",
       "    <tr>\n",
       "      <th>1</th>\n",
       "      <td>G06C</td>\n",
       "      <td>ten key calculating maching value mechanism re...</td>\n",
       "    </tr>\n",
       "    <tr>\n",
       "      <th>2</th>\n",
       "      <td>G06C</td>\n",
       "      <td>printing calculator ten digit key four functio...</td>\n",
       "    </tr>\n",
       "    <tr>\n",
       "      <th>3</th>\n",
       "      <td>G06C</td>\n",
       "      <td>cash register amount bank key includes differe...</td>\n",
       "    </tr>\n",
       "    <tr>\n",
       "      <th>4</th>\n",
       "      <td>G06C</td>\n",
       "      <td>machine calculating decimal number coded accor...</td>\n",
       "    </tr>\n",
       "  </tbody>\n",
       "</table>\n",
       "</div>"
      ],
      "text/plain": [
       "  Class                                             Claims\n",
       "0  G06C  business machine apparatus constructed arrange...\n",
       "1  G06C  ten key calculating maching value mechanism re...\n",
       "2  G06C  printing calculator ten digit key four functio...\n",
       "3  G06C  cash register amount bank key includes differe...\n",
       "4  G06C  machine calculating decimal number coded accor..."
      ]
     },
     "execution_count": 12,
     "metadata": {},
     "output_type": "execute_result"
    }
   ],
   "source": [
    "df.drop(columns='URL', inplace=True)\n",
    "df.head()"
   ]
  },
  {
   "cell_type": "code",
   "execution_count": 13,
   "metadata": {},
   "outputs": [],
   "source": [
    "df.to_csv('G06_updated_cleaned_words.csv')"
   ]
  }
 ],
 "metadata": {
  "kernelspec": {
   "display_name": "Python 3",
   "language": "python",
   "name": "python3"
  },
  "language_info": {
   "codemirror_mode": {
    "name": "ipython",
    "version": 3
   },
   "file_extension": ".py",
   "mimetype": "text/x-python",
   "name": "python",
   "nbconvert_exporter": "python",
   "pygments_lexer": "ipython3",
   "version": "3.7.4"
  }
 },
 "nbformat": 4,
 "nbformat_minor": 4
}
